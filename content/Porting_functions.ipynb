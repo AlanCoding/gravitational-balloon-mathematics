{
 "cells": [
  {
   "cell_type": "code",
   "execution_count": 1,
   "id": "ab25a68c",
   "metadata": {},
   "outputs": [],
   "source": [
    "from gb import inflation as new_inflation\n",
    "from gb.ported import gravity as old_inflation"
   ]
  },
  {
   "cell_type": "markdown",
   "id": "e14ce124",
   "metadata": {},
   "source": [
    "### Rebotting old Excel Macros\n",
    "Old work on the gravitational space balloons blogs was done by defining the non-trivial functions in Excel macros (Visual Basic), and then doing the math in spreadsheets.\n",
    "\n",
    "Here, all that old work is ported into python. Observe the module with converted code is `gb.ported`. The equations are the same, so using a different solver method isn't expected to make much of a difference. Here are a few examples.\n",
    "\n",
    "#### Thickness from Radius and Pressure"
   ]
  },
  {
   "cell_type": "code",
   "execution_count": 2,
   "id": "541c59e0",
   "metadata": {},
   "outputs": [
    {
     "name": "stdout",
     "output_type": "stream",
     "text": [
      "value from revised methods\n",
      "14966.067184587027\n",
      "\n",
      "value from old methods\n",
      "20562991.624376364\n"
     ]
    }
   ],
   "source": [
    "print('value from revised methods')\n",
    "print(new_inflation.t_RP(12.0e3, 1.0e5))\n",
    "\n",
    "print('')\n",
    "print('value from old methods')\n",
    "print(old_inflation.t_RP(12.0e3, 1.0e5, 1.3))"
   ]
  },
  {
   "cell_type": "markdown",
   "id": "3791db1c",
   "metadata": {},
   "source": [
    "#### Left TODO\n",
    "I have high confidence that what I've already ported is better, or better, than the old functions. However, there are a lot of old functions. I don't consider all of them important, and won't ever touch a few of them.\n",
    "\n",
    "Here is a simple set difference to tally what was in the old functions that are not yet in the converted python library."
   ]
  },
  {
   "cell_type": "code",
   "execution_count": 4,
   "id": "2e99325e",
   "metadata": {},
   "outputs": [
    {
     "name": "stdout",
     "output_type": "stream",
     "text": [
      "\n",
      "Functions in the old but not in new:\n",
      "  dPdR_Rt\n",
      "  atm\n",
      "  cos\n",
      "  dia\n",
      "  tether_rot\n",
      "  dNdD_MB\n",
      "  Skylab\n",
      "  dNdD_JPL\n",
      "  dtdR_RM\n",
      "  Stefan_const\n",
      "  dNdD_wiki\n",
      "  dPdR_RM\n",
      "  dPdt_Rt\n",
      "  inclined_hoh_avg\n",
      "  log\n",
      "  density_kra\n",
      "  P_RS\n",
      "  density_type2\n",
      "  density_type\n",
      "  AU\n",
      "  inclined_hoh\n",
      "  Pi\n",
      "  H_dia\n",
      "  dPdR_RS\n",
      "  Gval\n",
      "  hohmann1_mrr\n",
      "  R_PS\n",
      "  dia_p\n",
      "  inclined_hoh_min\n",
      "  R_N2max\n",
      "  M_P_small\n",
      "  mass\n",
      "  hohmann2_mrr\n",
      "  root_abc\n",
      "  density_type3\n",
      "  exp\n",
      "  P_M\n",
      "  erf\n",
      "  sun_mass\n"
     ]
    }
   ],
   "source": [
    "print('')\n",
    "print('Functions in the old but not in new:')\n",
    "for name in set(dir(old_inflation)) - set(dir(new_inflation)):\n",
    "    print('  ' + str(name))"
   ]
  },
  {
   "cell_type": "code",
   "execution_count": null,
   "id": "6cc5adc7",
   "metadata": {},
   "outputs": [],
   "source": []
  },
  {
   "cell_type": "code",
   "execution_count": null,
   "id": "f88202a9",
   "metadata": {},
   "outputs": [],
   "source": []
  }
 ],
 "metadata": {
  "kernelspec": {
   "display_name": "Python 3 (ipykernel)",
   "language": "python",
   "name": "python3"
  },
  "language_info": {
   "codemirror_mode": {
    "name": "ipython",
    "version": 3
   },
   "file_extension": ".py",
   "mimetype": "text/x-python",
   "name": "python",
   "nbconvert_exporter": "python",
   "pygments_lexer": "ipython3",
   "version": "3.9.4"
  }
 },
 "nbformat": 4,
 "nbformat_minor": 5
}
