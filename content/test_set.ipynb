{
 "cells": [
  {
   "cell_type": "code",
   "execution_count": 1,
   "id": "12fce7f1",
   "metadata": {},
   "outputs": [],
   "source": [
    "from gb.inflation import *"
   ]
  },
  {
   "cell_type": "code",
   "execution_count": 4,
   "id": "46f64639",
   "metadata": {},
   "outputs": [],
   "source": [
    "example_masses = dict(\n",
    "    sun=1.989e30,\n",
    "    earth=5972.e24,\n",
    "    moon=73.46e24,\n",
    "    ceres=0.938e24,\n",
    "    vesta=2.590e20,\n",
    "    hygiea=83.e18,\n",
    "    psyche=24.e18,\n",
    "    phobos=1.0659e16\n",
    ")"
   ]
  },
  {
   "cell_type": "code",
   "execution_count": 16,
   "id": "42942eca",
   "metadata": {},
   "outputs": [
    {
     "name": "stdout",
     "output_type": "stream",
     "text": [
      "[['sun_small', 1.989e+30, 120704368942104.95, 0.0], ['sun_medium', 1.989e+30, 21099377645395.375, 714826987.5913494], ['sun_large', 1.989e+30, 4019905665.58473, 7148269875.913494], ['earth_small', 5.972e+27, 2512154432696.3853, 0.0], ['earth_medium', 5.972e+27, 439129880248.4786, 103124679.65671049], ['earth_large', 5.972e+27, 83664111.95654, 1031246796.5671049], ['moon_small', 7.346e+25, 133865012771.37538, 0.0], ['moon_medium', 7.346e+25, 23399885875.908424, 23805263.194816392], ['moon_large', 7.346e+25, 4458204.1891207425, 238052631.94816393], ['ceres_small', 9.38e+23, 7313103052.868566, 0.0], ['ceres_medium', 9.38e+23, 1278345799.9451523, 5564040.624867016], ['ceres_large', 9.38e+23, 243553.60665793912, 55640406.24867016], ['vesta_small', 2.59e+20, 31009848.45253202, 0.0], ['vesta_medium', 2.59e+20, 5420586.752251058, 362317.4636663841], ['vesta_large', 2.59e+20, 1032.7436080043185, 3623174.636663841], ['hygiea_small', 8.3e+19, 14521735.738147829, 0.0], ['hygiea_medium', 8.3e+19, 2538429.959836274, 247941.20654198257], ['hygiea_large', 8.3e+19, 483.6279604418672, 2479412.0654198257], ['psyche_small', 2.4e+19, 6350003.464412078, 0.0], ['psyche_medium', 2.4e+19, 1109993.965582771, 163955.6648803104], ['psyche_large', 2.4e+19, 211.47879837977686, 1639556.648803104], ['phobos_small', 1.0659e+16, 36963.870713292745, 0.0], ['phobos_medium', 1.0659e+16, 6461.362370312837, 12509.16055914635], ['phobos_large', 1.0659e+16, 1.2310347554481575, 125091.6055914635]]\n"
     ]
    }
   ],
   "source": [
    "data = []\n",
    "for name, M in example_masses.items():\n",
    "    centerline_P = P_RM(0., M)\n",
    "    R0 = t_MP(M, centerline_P)\n",
    "    data.append([name + '_small', M, centerline_P, 0.])\n",
    "    data.append([name + '_medium', M, P_RM(R0, M), R0])\n",
    "    data.append([name + '_large', M, P_RM(10*R0, M), 10*R0])\n",
    "# print('\\n'.join([' '.join([str(prop) for prop in body]) for body in data]))\n",
    "print(data)"
   ]
  },
  {
   "cell_type": "code",
   "execution_count": 6,
   "id": "1691b0bb",
   "metadata": {},
   "outputs": [],
   "source": [
    "from math import pi"
   ]
  },
  {
   "cell_type": "code",
   "execution_count": 7,
   "id": "4cae1951",
   "metadata": {},
   "outputs": [],
   "source": [
    "M = 1.0659e+16  # phobos"
   ]
  },
  {
   "cell_type": "code",
   "execution_count": 8,
   "id": "86ee5ec1",
   "metadata": {},
   "outputs": [
    {
     "data": {
      "text/plain": [
       "125091.6055914346"
      ]
     },
     "execution_count": 8,
     "metadata": {},
     "output_type": "execute_result"
    }
   ],
   "source": [
    "(M * 3. / (4. * pi * 1.3))**(1./3.)  # small radius"
   ]
  },
  {
   "cell_type": "code",
   "execution_count": 9,
   "id": "2f93fc13",
   "metadata": {},
   "outputs": [
    {
     "data": {
      "text/plain": [
       "array([-2.88027062e-09,  1.25091606e+04])"
      ]
     },
     "execution_count": 9,
     "metadata": {},
     "output_type": "execute_result"
    }
   ],
   "source": [
    "Rt_MP(1.0659e+16, 36963.870713292745)  # this is the problem"
   ]
  },
  {
   "cell_type": "code",
   "execution_count": 10,
   "id": "95953453",
   "metadata": {},
   "outputs": [
    {
     "data": {
      "text/plain": [
       "array([36963.87071329, 12509.16055914])"
      ]
     },
     "execution_count": 10,
     "metadata": {},
     "output_type": "execute_result"
    }
   ],
   "source": [
    "Pt_RM(0., M)"
   ]
  },
  {
   "cell_type": "code",
   "execution_count": null,
   "id": "e1751be0",
   "metadata": {},
   "outputs": [],
   "source": []
  },
  {
   "cell_type": "code",
   "execution_count": null,
   "id": "1e497897",
   "metadata": {},
   "outputs": [],
   "source": []
  },
  {
   "cell_type": "code",
   "execution_count": null,
   "id": "ff3135a4",
   "metadata": {},
   "outputs": [],
   "source": []
  },
  {
   "cell_type": "code",
   "execution_count": null,
   "id": "b824b6c1",
   "metadata": {},
   "outputs": [],
   "source": []
  },
  {
   "cell_type": "code",
   "execution_count": null,
   "id": "66c10172",
   "metadata": {},
   "outputs": [],
   "source": []
  }
 ],
 "metadata": {
  "kernelspec": {
   "display_name": "Python 3 (ipykernel)",
   "language": "python",
   "name": "python3"
  },
  "language_info": {
   "codemirror_mode": {
    "name": "ipython",
    "version": 3
   },
   "file_extension": ".py",
   "mimetype": "text/x-python",
   "name": "python",
   "nbconvert_exporter": "python",
   "pygments_lexer": "ipython3",
   "version": "3.9.4"
  }
 },
 "nbformat": 4,
 "nbformat_minor": 5
}
