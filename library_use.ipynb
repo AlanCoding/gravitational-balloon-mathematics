{
 "cells": [
  {
   "cell_type": "code",
   "execution_count": 2,
   "id": "b430f2c8",
   "metadata": {},
   "outputs": [],
   "source": [
    "from gb.constants import rho"
   ]
  },
  {
   "cell_type": "code",
   "execution_count": 3,
   "id": "e9a5dd47",
   "metadata": {},
   "outputs": [
    {
     "name": "stdout",
     "output_type": "stream",
     "text": [
      "1.3\n"
     ]
    }
   ],
   "source": [
    "print(rho)"
   ]
  },
  {
   "cell_type": "code",
   "execution_count": null,
   "id": "30ed7555",
   "metadata": {},
   "outputs": [],
   "source": []
  }
 ],
 "metadata": {
  "kernelspec": {
   "display_name": "Python 3",
   "language": "python",
   "name": "python3"
  },
  "language_info": {
   "codemirror_mode": {
    "name": "ipython",
    "version": 3
   },
   "file_extension": ".py",
   "mimetype": "text/x-python",
   "name": "python",
   "nbconvert_exporter": "python",
   "pygments_lexer": "ipython3",
   "version": "3.9.4"
  }
 },
 "nbformat": 4,
 "nbformat_minor": 5
}
